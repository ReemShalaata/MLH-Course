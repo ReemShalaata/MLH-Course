{
 "cells": [
  {
   "cell_type": "markdown",
   "metadata": {},
   "source": [
    "# BME-336546-T#02.1 \n",
    "# **<span style=\"font-family:Comic Sans MS\">Git Tutorial</span>**"
   ]
  },
  {
   "cell_type": "markdown",
   "metadata": {},
   "source": [
    "## **Setting up Git**"
   ]
  },
  {
   "cell_type": "markdown",
   "metadata": {},
   "source": [
    "### Open a GitHub user:\n",
    "As a first step we're going to open a user in GitHub (https://github.com/). \\\n",
    "GitHub will accompany us through the whole semester as an integrate part of your homework submissions."
   ]
  },
  {
   "cell_type": "markdown",
   "metadata": {},
   "source": [
    "### Download Sourcetree GUI:\n",
    "Go to https://www.sourcetreeapp.com/ and download the GUI: \\\n",
    "<img src=\"Images\\IMG01.png\">\n",
    "\n",
    "This app will help you work localy on your project (not online)."
   ]
  },
  {
   "cell_type": "markdown",
   "metadata": {},
   "source": [
    "## **Getting started with Git and Sourcetree**\n",
    "#### **Figure 1: Workflow**\n",
    "\n",
    "<img src=\"Images/IMG02.png\">\n",
    "\n",
    "credit: https://sselab.de/lab2/public/wiki/sselab/index.php?title=Git \n",
    "***"
   ]
  },
  {
   "cell_type": "markdown",
   "metadata": {},
   "source": [
    "#### Introduction to Git structure and commands:\n",
    "- **Repository**: Where you will store and update your projects. All files type are valid. You can have a *local repository* (on Sourcetree, for instance) and/or a *remote repository* (e.g. on GitHub) \n",
    "\n",
    "- **Branch**: When creating a new repository, the default main working branch will be \"*Master*\". You are allowed to keep working on your main branch, however, if you work in groups and wish to work simultanousely on the same project, or if you want to try and test some features or changes to your project then the better way to work is by opening a new branches and merge it with the main branch (or other branches) when you're pleased and done. \n",
    "\n",
    "##### Figure 2:\n",
    "<center> <img src=\"Images/IMG03.png\" width=500 align=\"center\"/> </center> \n",
    "\n",
    "\n",
    "credit: http://luci.criosweb.ro/a-real-life-git-workflow-why-git-flow-does-not-work-for-us/\n",
    "\n",
    "- **Commit**: One of the main commands in Git. It creates a milestoned version of your project which you can restore any time in the future. We highly recommend you to proparly track your changes by comment (tag) it when commiting. \n",
    "\n",
    "- **Add**: Add files into a *staging* step, before *commit* is done. The advantage of this command is that you can fully contorl which files to commit into the next version. However, we can skip this stage and execute a direct *commit*ment if we wish to update all project's files at once.\n",
    "\n",
    "- **Clone**: When we have an online Git repository and we wish to initiate a local repository to work on your local machine (and still 'communicate' with the online one)\n",
    "\n",
    "- **Push and Pull**: After both local and online repositories are exist we need to keep synchronized them to verify every one in the project will work with the most updated files. In addition, the online repository is the best way to fully backup your project. We'll use *Pull* when we want to update our local files, and \"Push\" when we want to update the online files. \n",
    "\n",
    "- **Checkout**: When you have multiple branches you need to direct the HEAD of your git where you wish to work now. That's done by the *checkout* command.\n",
    "\n",
    "- <span style=\"color:red\">**.gitignore**: This isn't a command but a file that specifies files we want Git to ignore. </span>\n",
    "***\n"
   ]
  },
  {
   "cell_type": "markdown",
   "metadata": {},
   "source": [
    "## **Exercise 1**"
   ]
  },
  {
   "cell_type": "markdown",
   "metadata": {},
   "source": [
    "### (1.1) Joining an assingment on *GitHub Classroom*\n",
    "Get into GitHub Classroom via the following URL: https://classroom.github.com/a/4AUgWHKV and choose your name from the list.\n",
    "\n",
    "<img src=\"Images/GitHubClassroom_Names.png\" width=700>\n"
   ]
  },
  {
   "cell_type": "markdown",
   "metadata": {},
   "source": [
    "Now you should (1) accept authorization (only after you joined *mlh-master*, you shoud have done it before this tutorial) and (2) accept the assignment (GitTutorial).\n",
    "\n",
    "##### (1) \n",
    "\n",
    "<img src=\"Images/accept_authorization.png\" width=300> \n",
    "\n",
    "##### (2)\n",
    "\n",
    "<img src=\"Images/accept_assinment.png\" width=700>\n",
    "\n",
    "\n",
    "Now wait a few seconds and refresh the page. You suppose to see a similar page to the follows - \n",
    "\n",
    "<img src=\"Images/ready_to_go.png\" width=500>\n",
    "\n",
    "\n",
    "\n",
    "Click on the given URL. This is your ***remote repository*** for this tutorial.\n",
    "\n",
    "***\n",
    "> #### <span style=\"color:#3385ff\">*GOOD! You're ready to move forward. Remember those steps for your upcoming HW.*</span>\n",
    "***\n",
    "\n"
   ]
  },
  {
   "cell_type": "markdown",
   "metadata": {},
   "source": [
    "### (1.2) Clone your remote repository to a local repository\n",
    "Open a new empty folder where you want your repo to be saved in. \\\n",
    "Open Sourcetree and click file --> Clone / New\n",
    "\n",
    "<left><img src=\"Images/cloneSourcetree.png\" width=550></left>\n",
    "\n",
    "Return to GitHub, copy from the green *code* button the repo URL and paste it where you've been asked for back in Sourcetree.\n",
    "\n",
    "<left><img src=\"Images/URL.png\" width=300></left>\n",
    "\n",
    "Choose the directory where you wish to save your repository at. Give it a proper name (e.g. \"GitTutorial\") in the destinated place and then push *clone*.\n",
    "\n",
    "***\n",
    "> #### <span style=\"color:#3385ff\">*In this point you have generated both online (remote) and offline (local) repositories.*</span>\n",
    "***"
   ]
  },
  {
   "cell_type": "markdown",
   "metadata": {},
   "source": [
    "### (1.3) Adding files to the project and commit changes\n",
    "Inside the local repository you should see now only two files - README and .gitignore. \\\n",
    "*We'll now generate additional file and see how we can follow changes using Sourcetree.*\n",
    "\n",
    "Inside your local repo folder, open a .txt document and type \"Hello MLH course!\". Call it \"tmp\".\n",
    "\n",
    "After you generated *tmp*, go back to Sourcetree. Notice that you can see the file marked with a question mark sign and by clicking once on it you can see its content. \n",
    "<center><img src=\"Images/newFileST.png\" width=900></center>\n",
    "\n",
    "\n",
    "Now, we would like to commit our changes to generate our first version of the project! The following stages we will execute are similar to the known \"add\" and \"commit\". \\\n",
    "Go to Sourcetree again and stand with the mouse on 'commit'. How many pending files does it have?\n",
    "\n",
    "Now, click the $+$ sign next to tmp.txt, see that it moves from the work space (Unstaged files) to the Staged files. Stand with the mouse on 'commit' again. How many pending files does it have now?\n",
    "- That was the **Add** command\n",
    "\n",
    "Next, describe the last change in the blank window at the bottom of the Sourcetree screen and commit it - \n",
    "<img src=\"Images/commit.png\">\n",
    "\n",
    "Now, go to *History* and click on the new milestone. The new file exists there!\n",
    "***\n",
    "> #### <span style=\"color:#3385ff\">These two steps are done when we change (or add) files in the repository (as can be seen in figure 1). Notice that as we mentioned before, since we are using *add* before *commit* we are able to control the exact files we are inserting the repository.</span>\n",
    "***"
   ]
  },
  {
   "cell_type": "markdown",
   "metadata": {},
   "source": [
    "### (1.4) Pushing to remote repository\n",
    "Before pushing the files to the remoted repo, visit it again and see that *tmp.txt* isn't exists yet. That's what push meant to do - update the changes done localy to the remoted repository.\n",
    "\n",
    "In Sourcetree, click on \"*Push*\" and on the popped window click on \"*push*\" again. \\\n",
    "Return to GitHub and get ready to be overwhelmed... **tmp.txt is there!!!**"
   ]
  },
  {
   "cell_type": "markdown",
   "metadata": {},
   "source": [
    "### (1.5) Return to previous version\n",
    "In Sourcetree go to history and double click *Initial commit*. Then click OK.\n",
    "\n",
    "<img src=\"Images/RestorePreviousVersion.png\" width=600>\n",
    "\n",
    "Go to the local repository folder on your machine, what are you expecting to see now?\n",
    "\n",
    "*Self-checking: What are the steps you need to do to update the online repository?* \n",
    "(You don't have to conduct the steps, just see if you remember what you have just learned)"
   ]
  },
  {
   "cell_type": "markdown",
   "metadata": {},
   "source": [
    "***\n",
    "***\n",
    "> ### <span style=\"color:#3385ff\">Congratulations! You've finished the first excersie on the git tutorial and now you know how to: </span>\n",
    "    > - #### <span style=\"color:purple\"> Initiate a local and remote repository </span>\n",
    "    > - #### <span style=\"color:purple\"> Make and save changes localy and remotely using Sourcetree. </span>\n",
    "    > - #### <span style=\"color:purple\"> Restore previous versions on the Master branch. </span>\n",
    "    > - #### <span style=\"color:purple\"> And starting to get the sense of Git structure and its benefits.</span>\n",
    "***\n",
    "***"
   ]
  },
  {
   "cell_type": "markdown",
   "metadata": {},
   "source": [
    "## **Exercise 2**"
   ]
  },
  {
   "cell_type": "markdown",
   "metadata": {},
   "source": [
    "### (2.1) Branch generation\n"
   ]
  },
  {
   "cell_type": "markdown",
   "metadata": {},
   "source": [
    "Now we will show some basics of branchs.\n",
    "\n",
    "Go to Sourcetree and return to the last version (where the tmp file exists). \\\n",
    "Now, click 'Branch' and call the new branch 'example'. Create the branch. \\\n",
    "It is important to leave *Checkout New Branch* marked if we want to wark on this branch now.\n",
    "\n",
    "<left><img src=\"Images/BranchGeneration.png\" width=600></left>\n",
    "\n",
    "Now you can see under \"BRANCHES\" both the master and example branches."
   ]
  },
  {
   "cell_type": "markdown",
   "metadata": {},
   "source": [
    "In order to generate a synced remoted branch as well, click *Push* and mark V in *track*. Push it. \n",
    "\n",
    "<img src=\"Images/BranchPush.png\" width=700> \n",
    "\n",
    "Now you can see that *origin/example* has added to *Description*.\n",
    "\n",
    "Go to your local repo and add the following line to tmp - \"This is an example\". Save it.\n",
    "Commit the changes via Sourcetree (under the example branch) and then check the tmp file under both branches (*master* and *example*, you can chage branch by double clicking). You should notice that the changes in *tmp* occurs only in the *example* branch. Do you strat to get the sense of it?\n",
    "\n",
    "OK, let's go up to the next level.\n",
    "Double click *master* and open a new branch called *example2*. Don't forget to push it. You should see now in the local repository the tmp file with only one row as we first commited with.\n",
    "Now generate additional file, call it *tmp2*. Commit the changes.\n",
    " \n",
    "At this point your Sourcetree should be seen as follow (notice the Graph section) - \n",
    "\n",
    "<img src=\"Images/twoBranches.png\">"
   ]
  },
  {
   "cell_type": "markdown",
   "metadata": {},
   "source": [
    "#### Subtotal:\n",
    "- master - tmp file with one row\n",
    "- example - tmp file with two rows\n",
    "- example2 - tmp file with one row and empty tmp2 file"
   ]
  },
  {
   "cell_type": "markdown",
   "metadata": {},
   "source": [
    "### (2.2) Branch Merging"
   ]
  },
  {
   "cell_type": "markdown",
   "metadata": {},
   "source": [
    "Let's assume two of your group have worked on each example branch and that the one worked on *example* is pleased with his changes. The next step will be to merge the changes together. \\\n",
    "In that case we'll merge *example* to *example2* because we are still working on *example2*.\n",
    "\n",
    "Go to Sourcetree and double click *example2*, then push the merge button.\n",
    "\n",
    "<img src=\"Images/merge.png\" width=800>\n",
    "\n",
    "Choose the *example* branch and then click OK. \\\n",
    "Look at the Graph to visualize the change, and go to your local repo and see the content of the folder - it should conatin now tmp file with two rows and empty tmp2 file."
   ]
  },
  {
   "cell_type": "markdown",
   "metadata": {},
   "source": [
    "***\n",
    "***\n",
    "> ### <span style=\"color:#3385ff\">Great! You've finished the second excersie on the git tutorial as well and now you also know how to: </span>\n",
    "    > - #### <span style=\"color:purple\"> Open new branches in git project. </span>\n",
    "    > - #### <span style=\"color:purple\"> Merge branches in git project. </span>\n",
    "    > - #### <span style=\"color:purple\"> Work simultanousely on the same project with your group members.</span>\n",
    "***\n",
    "***"
   ]
  }
 ],
 "metadata": {
  "kernelspec": {
   "display_name": "Python 3",
   "language": "python",
   "name": "python3"
  },
  "language_info": {
   "codemirror_mode": {
    "name": "ipython",
    "version": 3
   },
   "file_extension": ".py",
   "mimetype": "text/x-python",
   "name": "python",
   "nbconvert_exporter": "python",
   "pygments_lexer": "ipython3",
   "version": "3.7.6"
  }
 },
 "nbformat": 4,
 "nbformat_minor": 4
}
